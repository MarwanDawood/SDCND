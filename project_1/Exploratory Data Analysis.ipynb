{
 "cells": [
  {
   "cell_type": "markdown",
   "metadata": {},
   "source": [
    "# Explore the dataset\n",
    "\n",
    "\n",
    "In this notebook, we will perform an EDA (Exploratory Data Analysis) on the processed Waymo dataset (data in the `processed` folder). In the first part, you will create a function to display "
   ]
  },
  {
   "cell_type": "code",
   "execution_count": 8,
   "metadata": {},
   "outputs": [],
   "source": [
    "import matplotlib\n",
    "matplotlib.use('TkAgg')\n",
    "\n",
    "import matplotlib.pyplot as plt\n",
    "from utils import get_dataset\n",
    "from matplotlib.patches import Rectangle\n",
    "from PIL import Image\n"
   ]
  },
  {
   "cell_type": "code",
   "execution_count": 9,
   "metadata": {
    "scrolled": true
   },
   "outputs": [
    {
     "name": "stdout",
     "output_type": "stream",
     "text": [
      "INFO:tensorflow:Reading unweighted datasets: ['/home/workspace/data/preprocessed_data/*.tfrecord']\n",
      "INFO:tensorflow:Reading record datasets for input file: ['/home/workspace/data/preprocessed_data/*.tfrecord']\n",
      "INFO:tensorflow:Number of filenames to read: 100\n"
     ]
    }
   ],
   "source": [
    "dataset = get_dataset(\"/home/workspace/data/preprocessed_data/*.tfrecord\")"
   ]
  },
  {
   "cell_type": "markdown",
   "metadata": {},
   "source": [
    "## Write a function to display an image and the bounding boxes\n",
    "\n",
    "Implement the `display_instances` function below. This function takes a batch as an input and display an image with its corresponding bounding boxes. The only requirement is that the classes should be color coded (eg, vehicles in red, pedestrians in blue, cyclist in green)."
   ]
  },
  {
   "cell_type": "code",
   "execution_count": 10,
   "metadata": {},
   "outputs": [],
   "source": [
    "def display_instances(batch):\n",
    "    \"\"\"\n",
    "    This function takes a batch from the dataset and display the image with \n",
    "    the associated bounding boxes.\n",
    "    \"\"\"\n",
    "    # ADD CODE HERE\n",
    "    # color map\n",
    "    color_map = {1: 'red', 2: 'blue', 4: 'green'}\n",
    "\n",
    "    fig, ax = plt.subplots() \n",
    "    im = batch[\"image\"].numpy()\n",
    "    ax.imshow(im)\n",
    "\n",
    "    # draw bounding boxes and add color to different class labels\n",
    "    for coord, label in zip(batch[\"groundtruth_boxes\"].numpy(), batch[\"groundtruth_classes\"].numpy()):\n",
    "        xy = (coord[1]*im.shape[1], coord[0]*im.shape[0])\n",
    "        width = (coord[3] - coord[1])*im.shape[1]\n",
    "        height = (coord[2] - coord[0])*im.shape[0]\n",
    "        rec = Rectangle(xy, width, height, linewidth=1, edgecolor=color_map[label], facecolor='none')\n",
    "        ax.add_patch(rec)\n",
    "    plt.axis(\"off\")\n"
   ]
  },
  {
   "cell_type": "markdown",
   "metadata": {},
   "source": [
    "## Display 10 images \n",
    "\n",
    "Using the dataset created in the second cell and the function you just coded, display 10 random images with the associated bounding boxes. You can use the methods `take` and `shuffle` on the dataset."
   ]
  },
  {
   "cell_type": "code",
   "execution_count": 11,
   "metadata": {},
   "outputs": [],
   "source": [
    "## STUDENT SOLUTION HERE\n",
    "plt.figure(figsize=(10, 10))\n",
    "for i in range(10):\n",
    "    for batch in dataset.shuffle(75, reshuffle_each_iteration=True).take(1):\n",
    "        display_instances(batch)\n",
    "plt.show()"
   ]
  },
  {
   "cell_type": "markdown",
   "metadata": {},
   "source": [
    "## Additional EDA\n",
    "\n",
    "In this last part, you are free to perform any additional analysis of the dataset. What else would like to know about the data?\n",
    "For example, think about data distribution. So far, you have only looked at a single file..."
   ]
  },
  {
   "cell_type": "code",
   "execution_count": null,
   "metadata": {},
   "outputs": [],
   "source": []
  }
 ],
 "metadata": {
  "kernelspec": {
   "display_name": "Python 3",
   "language": "python",
   "name": "python3"
  },
  "language_info": {
   "codemirror_mode": {
    "name": "ipython",
    "version": 3
   },
   "file_extension": ".py",
   "mimetype": "text/x-python",
   "name": "python",
   "nbconvert_exporter": "python",
   "pygments_lexer": "ipython3",
   "version": "3.7.3"
  }
 },
 "nbformat": 4,
 "nbformat_minor": 4
}
